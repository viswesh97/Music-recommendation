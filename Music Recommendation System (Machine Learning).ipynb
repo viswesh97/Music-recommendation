{
 "cells": [
  {
   "cell_type": "markdown",
   "metadata": {},
   "source": [
    "## Music Recommendation System (Machine Learning)"
   ]
  },
  {
   "cell_type": "markdown",
   "metadata": {},
   "source": [
    "This project is aimed upon building a music recommendation system that gives the user recommendations on music based on his music taste by analysing his previously heard music and playlist. This project is done in two ways, using 'User - to - User Recommendation' and 'Item - to - Item Recommendation'. Birch, MiniBatchKMeans and KMeans algorithms are being used along with 'Surprise' module to compute the similarity between recommendations and user's already existing playlist for evaluation"
   ]
  },
  {
   "cell_type": "markdown",
   "metadata": {},
   "source": [
    "### Obtaining Data"
   ]
  },
  {
   "cell_type": "code",
   "execution_count": 836,
   "metadata": {},
   "outputs": [],
   "source": [
    "import pandas as pd\n",
    "import numpy as np"
   ]
  },
  {
   "cell_type": "code",
   "execution_count": 837,
   "metadata": {},
   "outputs": [],
   "source": [
    "final = pd.read_csv('datasets/final/main_data.csv')\n",
    "metadata = pd.read_csv('datasets/final/metadata.csv')"
   ]
  },
  {
   "cell_type": "markdown",
   "metadata": {},
   "source": [
    "### Model Selection - K Means Algorithm"
   ]
  },
  {
   "cell_type": "code",
   "execution_count": 838,
   "metadata": {},
   "outputs": [],
   "source": [
    "from sklearn.cluster import KMeans\n",
    "from sklearn.utils import shuffle"
   ]
  },
  {
   "cell_type": "code",
   "execution_count": 839,
   "metadata": {},
   "outputs": [],
   "source": [
    "from sklearn.preprocessing import LabelEncoder\n",
    "Weather_encoder=LabelEncoder()\n",
    "final[\"Weather\"]=Weather_encoder.fit_transform(final[\"Weather\"])\n",
    "Motion_encoder=LabelEncoder()\n",
    "final[\"Motion\"]=Motion_encoder.fit_transform(final[\"Motion\"])\n",
    "Location_encoder=LabelEncoder()\n",
    "final[\"Location\"]=Location_encoder.fit_transform(final[\"Location\"])"
   ]
  },
  {
   "cell_type": "code",
   "execution_count": 840,
   "metadata": {},
   "outputs": [],
   "source": [
    "final = shuffle(final)"
   ]
  },
  {
   "cell_type": "code",
   "execution_count": 841,
   "metadata": {},
   "outputs": [],
   "source": [
    "X = final.loc[[i for i in range(0, 500)]]\n",
    "Y = final.loc[[i for i in range(500, final.shape[0])]]"
   ]
  },
  {
   "cell_type": "code",
   "execution_count": 842,
   "metadata": {},
   "outputs": [],
   "source": [
    "X = shuffle(X)\n",
    "Y = shuffle(Y)"
   ]
  },
  {
   "cell_type": "code",
   "execution_count": 843,
   "metadata": {},
   "outputs": [],
   "source": [
    "metadat = metadata[0:1000]"
   ]
  },
  {
   "cell_type": "code",
   "execution_count": 844,
   "metadata": {
    "scrolled": true
   },
   "outputs": [
    {
     "data": {
      "text/html": [
       "<div>\n",
       "<style scoped>\n",
       "    .dataframe tbody tr th:only-of-type {\n",
       "        vertical-align: middle;\n",
       "    }\n",
       "\n",
       "    .dataframe tbody tr th {\n",
       "        vertical-align: top;\n",
       "    }\n",
       "\n",
       "    .dataframe thead th {\n",
       "        text-align: right;\n",
       "    }\n",
       "</style>\n",
       "<table border=\"1\" class=\"dataframe\">\n",
       "  <thead>\n",
       "    <tr style=\"text-align: right;\">\n",
       "      <th></th>\n",
       "      <th>track_id</th>\n",
       "      <th>album_title</th>\n",
       "      <th>artist_name</th>\n",
       "      <th>genre</th>\n",
       "      <th>track_title</th>\n",
       "    </tr>\n",
       "  </thead>\n",
       "  <tbody>\n",
       "    <tr>\n",
       "      <th>0</th>\n",
       "      <td>2</td>\n",
       "      <td>AWOL - A Way Of Life</td>\n",
       "      <td>AWOL</td>\n",
       "      <td>HipHop</td>\n",
       "      <td>Food</td>\n",
       "    </tr>\n",
       "    <tr>\n",
       "      <th>1</th>\n",
       "      <td>3</td>\n",
       "      <td>AWOL - A Way Of Life</td>\n",
       "      <td>AWOL</td>\n",
       "      <td>HipHop</td>\n",
       "      <td>Electric Ave</td>\n",
       "    </tr>\n",
       "    <tr>\n",
       "      <th>2</th>\n",
       "      <td>5</td>\n",
       "      <td>AWOL - A Way Of Life</td>\n",
       "      <td>AWOL</td>\n",
       "      <td>HipHop</td>\n",
       "      <td>This World</td>\n",
       "    </tr>\n",
       "    <tr>\n",
       "      <th>3</th>\n",
       "      <td>10</td>\n",
       "      <td>Constant Hitmaker</td>\n",
       "      <td>Kurt Vile</td>\n",
       "      <td>Pop</td>\n",
       "      <td>Freeway</td>\n",
       "    </tr>\n",
       "    <tr>\n",
       "      <th>4</th>\n",
       "      <td>134</td>\n",
       "      <td>AWOL - A Way Of Life</td>\n",
       "      <td>AWOL</td>\n",
       "      <td>HipHop</td>\n",
       "      <td>Street Music</td>\n",
       "    </tr>\n",
       "  </tbody>\n",
       "</table>\n",
       "</div>"
      ],
      "text/plain": [
       "   track_id           album_title artist_name   genre   track_title\n",
       "0         2  AWOL - A Way Of Life        AWOL  HipHop          Food\n",
       "1         3  AWOL - A Way Of Life        AWOL  HipHop  Electric Ave\n",
       "2         5  AWOL - A Way Of Life        AWOL  HipHop    This World\n",
       "3        10     Constant Hitmaker   Kurt Vile     Pop       Freeway\n",
       "4       134  AWOL - A Way Of Life        AWOL  HipHop  Street Music"
      ]
     },
     "execution_count": 844,
     "metadata": {},
     "output_type": "execute_result"
    }
   ],
   "source": [
    "metadata.head()"
   ]
  },
  {
   "cell_type": "code",
   "execution_count": 845,
   "metadata": {},
   "outputs": [],
   "source": [
    "metadata = metadata.set_index('track_id')"
   ]
  },
  {
   "cell_type": "code",
   "execution_count": null,
   "metadata": {},
   "outputs": [],
   "source": []
  },
  {
   "cell_type": "code",
   "execution_count": 846,
   "metadata": {
    "scrolled": false
   },
   "outputs": [],
   "source": [
    "kmeans = KMeans(n_clusters=6)"
   ]
  },
  {
   "cell_type": "code",
   "execution_count": 847,
   "metadata": {},
   "outputs": [
    {
     "data": {
      "text/html": [
       "<div>\n",
       "<style scoped>\n",
       "    .dataframe tbody tr th:only-of-type {\n",
       "        vertical-align: middle;\n",
       "    }\n",
       "\n",
       "    .dataframe tbody tr th {\n",
       "        vertical-align: top;\n",
       "    }\n",
       "\n",
       "    .dataframe thead th {\n",
       "        text-align: right;\n",
       "    }\n",
       "</style>\n",
       "<table border=\"1\" class=\"dataframe\">\n",
       "  <thead>\n",
       "    <tr style=\"text-align: right;\">\n",
       "      <th></th>\n",
       "      <th>Unnamed: 0</th>\n",
       "      <th>track_id</th>\n",
       "      <th>acousticness</th>\n",
       "      <th>danceability</th>\n",
       "      <th>energy</th>\n",
       "      <th>instrumentalness</th>\n",
       "      <th>liveness</th>\n",
       "      <th>speechiness</th>\n",
       "      <th>tempo</th>\n",
       "      <th>valence</th>\n",
       "      <th>Weather</th>\n",
       "      <th>Motion</th>\n",
       "      <th>Location</th>\n",
       "    </tr>\n",
       "  </thead>\n",
       "  <tbody>\n",
       "    <tr>\n",
       "      <th>646</th>\n",
       "      <td>646</td>\n",
       "      <td>1599</td>\n",
       "      <td>0.000013</td>\n",
       "      <td>0.433420</td>\n",
       "      <td>0.994968</td>\n",
       "      <td>0.867411</td>\n",
       "      <td>0.127507</td>\n",
       "      <td>0.061677</td>\n",
       "      <td>146.139</td>\n",
       "      <td>0.110264</td>\n",
       "      <td>5</td>\n",
       "      <td>2</td>\n",
       "      <td>5</td>\n",
       "    </tr>\n",
       "    <tr>\n",
       "      <th>813</th>\n",
       "      <td>813</td>\n",
       "      <td>1829</td>\n",
       "      <td>0.739425</td>\n",
       "      <td>0.535139</td>\n",
       "      <td>0.458887</td>\n",
       "      <td>0.920171</td>\n",
       "      <td>0.096835</td>\n",
       "      <td>0.481509</td>\n",
       "      <td>160.027</td>\n",
       "      <td>0.772956</td>\n",
       "      <td>0</td>\n",
       "      <td>3</td>\n",
       "      <td>7</td>\n",
       "    </tr>\n",
       "    <tr>\n",
       "      <th>749</th>\n",
       "      <td>749</td>\n",
       "      <td>1750</td>\n",
       "      <td>0.802331</td>\n",
       "      <td>0.403832</td>\n",
       "      <td>0.639454</td>\n",
       "      <td>0.005084</td>\n",
       "      <td>0.098483</td>\n",
       "      <td>0.030431</td>\n",
       "      <td>116.052</td>\n",
       "      <td>0.234074</td>\n",
       "      <td>6</td>\n",
       "      <td>2</td>\n",
       "      <td>3</td>\n",
       "    </tr>\n",
       "    <tr>\n",
       "      <th>541</th>\n",
       "      <td>541</td>\n",
       "      <td>1354</td>\n",
       "      <td>0.211803</td>\n",
       "      <td>0.374616</td>\n",
       "      <td>0.976179</td>\n",
       "      <td>0.883576</td>\n",
       "      <td>0.148260</td>\n",
       "      <td>0.179517</td>\n",
       "      <td>85.050</td>\n",
       "      <td>0.188398</td>\n",
       "      <td>1</td>\n",
       "      <td>3</td>\n",
       "      <td>8</td>\n",
       "    </tr>\n",
       "    <tr>\n",
       "      <th>956</th>\n",
       "      <td>956</td>\n",
       "      <td>3360</td>\n",
       "      <td>0.644569</td>\n",
       "      <td>0.510711</td>\n",
       "      <td>0.447602</td>\n",
       "      <td>0.627566</td>\n",
       "      <td>0.107032</td>\n",
       "      <td>0.042808</td>\n",
       "      <td>175.453</td>\n",
       "      <td>0.933311</td>\n",
       "      <td>3</td>\n",
       "      <td>1</td>\n",
       "      <td>7</td>\n",
       "    </tr>\n",
       "  </tbody>\n",
       "</table>\n",
       "</div>"
      ],
      "text/plain": [
       "     Unnamed: 0  track_id  acousticness  danceability    energy  \\\n",
       "646         646      1599      0.000013      0.433420  0.994968   \n",
       "813         813      1829      0.739425      0.535139  0.458887   \n",
       "749         749      1750      0.802331      0.403832  0.639454   \n",
       "541         541      1354      0.211803      0.374616  0.976179   \n",
       "956         956      3360      0.644569      0.510711  0.447602   \n",
       "\n",
       "     instrumentalness  liveness  speechiness    tempo   valence  Weather  \\\n",
       "646          0.867411  0.127507     0.061677  146.139  0.110264        5   \n",
       "813          0.920171  0.096835     0.481509  160.027  0.772956        0   \n",
       "749          0.005084  0.098483     0.030431  116.052  0.234074        6   \n",
       "541          0.883576  0.148260     0.179517   85.050  0.188398        1   \n",
       "956          0.627566  0.107032     0.042808  175.453  0.933311        3   \n",
       "\n",
       "     Motion  Location  \n",
       "646       2         5  \n",
       "813       3         7  \n",
       "749       2         3  \n",
       "541       3         8  \n",
       "956       1         7  "
      ]
     },
     "execution_count": 847,
     "metadata": {},
     "output_type": "execute_result"
    }
   ],
   "source": [
    "Y.head()"
   ]
  },
  {
   "cell_type": "code",
   "execution_count": 848,
   "metadata": {},
   "outputs": [],
   "source": [
    "def fit(df, algo, flag=0):\n",
    "    if flag:\n",
    "        algo.fit(df)\n",
    "    else:\n",
    "         algo.partial_fit(df)          \n",
    "    df['label'] = algo.labels_\n",
    "    return (df, algo)"
   ]
  },
  {
   "cell_type": "code",
   "execution_count": 849,
   "metadata": {},
   "outputs": [],
   "source": [
    "def predict(t, Y):\n",
    "    y_pred = t[1].predict(Y)\n",
    "    mode = pd.Series(y_pred).mode()\n",
    "    return t[0][t[0]['label'] == mode.loc[0]]"
   ]
  },
  {
   "cell_type": "code",
   "execution_count": 850,
   "metadata": {},
   "outputs": [],
   "source": [
    "def recommend(recommendations, meta, Y):\n",
    "    dat = []\n",
    "    for i in Y['track_id']:\n",
    "        dat.append(i)\n",
    "    genre_mode = meta.loc[dat]['genre'].mode()\n",
    "    artist_mode = meta.loc[dat]['artist_name'].mode()\n",
    "    return meta[meta['genre'] == genre_mode.iloc[0]], meta[meta['artist_name'] == artist_mode.iloc[0]], meta.loc[recommendations['track_id']]"
   ]
  },
  {
   "cell_type": "code",
   "execution_count": 851,
   "metadata": {},
   "outputs": [],
   "source": [
    "t = fit(X, kmeans, 1)"
   ]
  },
  {
   "cell_type": "code",
   "execution_count": 852,
   "metadata": {},
   "outputs": [],
   "source": [
    "recommendations = predict(t, Y)"
   ]
  },
  {
   "cell_type": "code",
   "execution_count": 853,
   "metadata": {},
   "outputs": [],
   "source": [
    "output = recommend(recommendations, metadata, Y)"
   ]
  },
  {
   "cell_type": "code",
   "execution_count": 854,
   "metadata": {},
   "outputs": [],
   "source": [
    "genre_recommend, artist_name_recommend, mixed_recommend = output[0], output[1], output[2]"
   ]
  },
  {
   "cell_type": "code",
   "execution_count": 855,
   "metadata": {},
   "outputs": [
    {
     "data": {
      "text/plain": [
       "(3892, 4)"
      ]
     },
     "execution_count": 855,
     "metadata": {},
     "output_type": "execute_result"
    }
   ],
   "source": [
    "genre_recommend.shape"
   ]
  },
  {
   "cell_type": "code",
   "execution_count": 856,
   "metadata": {},
   "outputs": [
    {
     "data": {
      "text/plain": [
       "(65, 4)"
      ]
     },
     "execution_count": 856,
     "metadata": {},
     "output_type": "execute_result"
    }
   ],
   "source": [
    "artist_name_recommend.shape"
   ]
  },
  {
   "cell_type": "code",
   "execution_count": 857,
   "metadata": {},
   "outputs": [
    {
     "data": {
      "text/plain": [
       "(74, 4)"
      ]
     },
     "execution_count": 857,
     "metadata": {},
     "output_type": "execute_result"
    }
   ],
   "source": [
    "mixed_recommend.shape"
   ]
  },
  {
   "cell_type": "code",
   "execution_count": 858,
   "metadata": {},
   "outputs": [
    {
     "data": {
      "text/html": [
       "<div>\n",
       "<style scoped>\n",
       "    .dataframe tbody tr th:only-of-type {\n",
       "        vertical-align: middle;\n",
       "    }\n",
       "\n",
       "    .dataframe tbody tr th {\n",
       "        vertical-align: top;\n",
       "    }\n",
       "\n",
       "    .dataframe thead th {\n",
       "        text-align: right;\n",
       "    }\n",
       "</style>\n",
       "<table border=\"1\" class=\"dataframe\">\n",
       "  <thead>\n",
       "    <tr style=\"text-align: right;\">\n",
       "      <th></th>\n",
       "      <th>album_title</th>\n",
       "      <th>artist_name</th>\n",
       "      <th>genre</th>\n",
       "      <th>track_title</th>\n",
       "    </tr>\n",
       "    <tr>\n",
       "      <th>track_id</th>\n",
       "      <th></th>\n",
       "      <th></th>\n",
       "      <th></th>\n",
       "      <th></th>\n",
       "    </tr>\n",
       "  </thead>\n",
       "  <tbody>\n",
       "    <tr>\n",
       "      <th>153</th>\n",
       "      <td>Arc and Sender</td>\n",
       "      <td>Arc and Sender</td>\n",
       "      <td>Rock</td>\n",
       "      <td>Hundred-Year Flood</td>\n",
       "    </tr>\n",
       "    <tr>\n",
       "      <th>154</th>\n",
       "      <td>Arc and Sender</td>\n",
       "      <td>Arc and Sender</td>\n",
       "      <td>Rock</td>\n",
       "      <td>Squares And Circles</td>\n",
       "    </tr>\n",
       "    <tr>\n",
       "      <th>155</th>\n",
       "      <td>unreleased demo</td>\n",
       "      <td>Arc and Sender</td>\n",
       "      <td>Rock</td>\n",
       "      <td>Maps of the Stars Homes</td>\n",
       "    </tr>\n",
       "    <tr>\n",
       "      <th>169</th>\n",
       "      <td>Boss of Goth</td>\n",
       "      <td>Argumentix</td>\n",
       "      <td>Rock</td>\n",
       "      <td>Boss of Goth</td>\n",
       "    </tr>\n",
       "    <tr>\n",
       "      <th>170</th>\n",
       "      <td>Nightmarcher</td>\n",
       "      <td>Argumentix</td>\n",
       "      <td>Rock</td>\n",
       "      <td>Industry Standard Massacre</td>\n",
       "    </tr>\n",
       "  </tbody>\n",
       "</table>\n",
       "</div>"
      ],
      "text/plain": [
       "              album_title     artist_name genre                 track_title\n",
       "track_id                                                                   \n",
       "153        Arc and Sender  Arc and Sender  Rock          Hundred-Year Flood\n",
       "154        Arc and Sender  Arc and Sender  Rock         Squares And Circles\n",
       "155       unreleased demo  Arc and Sender  Rock     Maps of the Stars Homes\n",
       "169          Boss of Goth      Argumentix  Rock                Boss of Goth\n",
       "170          Nightmarcher      Argumentix  Rock  Industry Standard Massacre"
      ]
     },
     "execution_count": 858,
     "metadata": {},
     "output_type": "execute_result"
    }
   ],
   "source": [
    "# Genre wise recommendations\n",
    "genre_recommend.head()"
   ]
  },
  {
   "cell_type": "code",
   "execution_count": 859,
   "metadata": {
    "scrolled": true
   },
   "outputs": [
    {
     "data": {
      "text/html": [
       "<div>\n",
       "<style scoped>\n",
       "    .dataframe tbody tr th:only-of-type {\n",
       "        vertical-align: middle;\n",
       "    }\n",
       "\n",
       "    .dataframe tbody tr th {\n",
       "        vertical-align: top;\n",
       "    }\n",
       "\n",
       "    .dataframe thead th {\n",
       "        text-align: right;\n",
       "    }\n",
       "</style>\n",
       "<table border=\"1\" class=\"dataframe\">\n",
       "  <thead>\n",
       "    <tr style=\"text-align: right;\">\n",
       "      <th></th>\n",
       "      <th>album_title</th>\n",
       "      <th>artist_name</th>\n",
       "      <th>genre</th>\n",
       "      <th>track_title</th>\n",
       "    </tr>\n",
       "    <tr>\n",
       "      <th>track_id</th>\n",
       "      <th></th>\n",
       "      <th></th>\n",
       "      <th></th>\n",
       "      <th></th>\n",
       "    </tr>\n",
       "  </thead>\n",
       "  <tbody>\n",
       "    <tr>\n",
       "      <th>777</th>\n",
       "      <td>Quickies</td>\n",
       "      <td>Glove Compartment</td>\n",
       "      <td>Rock</td>\n",
       "      <td>Relaxing</td>\n",
       "    </tr>\n",
       "    <tr>\n",
       "      <th>778</th>\n",
       "      <td>Quickies</td>\n",
       "      <td>Glove Compartment</td>\n",
       "      <td>Rock</td>\n",
       "      <td>Don't Call Me Tonite / Very Good</td>\n",
       "    </tr>\n",
       "    <tr>\n",
       "      <th>779</th>\n",
       "      <td>Quickies</td>\n",
       "      <td>Glove Compartment</td>\n",
       "      <td>Rock</td>\n",
       "      <td>Causing Disturbances</td>\n",
       "    </tr>\n",
       "    <tr>\n",
       "      <th>780</th>\n",
       "      <td>Quickies</td>\n",
       "      <td>Glove Compartment</td>\n",
       "      <td>Rock</td>\n",
       "      <td>Don't Peek-O</td>\n",
       "    </tr>\n",
       "    <tr>\n",
       "      <th>783</th>\n",
       "      <td>Quickies</td>\n",
       "      <td>Glove Compartment</td>\n",
       "      <td>Rock</td>\n",
       "      <td>Puffy Onyx</td>\n",
       "    </tr>\n",
       "  </tbody>\n",
       "</table>\n",
       "</div>"
      ],
      "text/plain": [
       "         album_title        artist_name genre  \\\n",
       "track_id                                        \n",
       "777         Quickies  Glove Compartment  Rock   \n",
       "778         Quickies  Glove Compartment  Rock   \n",
       "779         Quickies  Glove Compartment  Rock   \n",
       "780         Quickies  Glove Compartment  Rock   \n",
       "783         Quickies  Glove Compartment  Rock   \n",
       "\n",
       "                               track_title  \n",
       "track_id                                    \n",
       "777                               Relaxing  \n",
       "778       Don't Call Me Tonite / Very Good  \n",
       "779                   Causing Disturbances  \n",
       "780                           Don't Peek-O  \n",
       "783                             Puffy Onyx  "
      ]
     },
     "execution_count": 859,
     "metadata": {},
     "output_type": "execute_result"
    }
   ],
   "source": [
    "# Artist wise recommendations\n",
    "artist_name_recommend.head()"
   ]
  },
  {
   "cell_type": "code",
   "execution_count": 860,
   "metadata": {},
   "outputs": [
    {
     "data": {
      "text/html": [
       "<div>\n",
       "<style scoped>\n",
       "    .dataframe tbody tr th:only-of-type {\n",
       "        vertical-align: middle;\n",
       "    }\n",
       "\n",
       "    .dataframe tbody tr th {\n",
       "        vertical-align: top;\n",
       "    }\n",
       "\n",
       "    .dataframe thead th {\n",
       "        text-align: right;\n",
       "    }\n",
       "</style>\n",
       "<table border=\"1\" class=\"dataframe\">\n",
       "  <thead>\n",
       "    <tr style=\"text-align: right;\">\n",
       "      <th></th>\n",
       "      <th>album_title</th>\n",
       "      <th>artist_name</th>\n",
       "      <th>genre</th>\n",
       "      <th>track_title</th>\n",
       "    </tr>\n",
       "    <tr>\n",
       "      <th>track_id</th>\n",
       "      <th></th>\n",
       "      <th></th>\n",
       "      <th></th>\n",
       "      <th></th>\n",
       "    </tr>\n",
       "  </thead>\n",
       "  <tbody>\n",
       "    <tr>\n",
       "      <th>1170</th>\n",
       "      <td>Dead And/Or Famous</td>\n",
       "      <td>Mors Ontologica</td>\n",
       "      <td>Rock</td>\n",
       "      <td>Bad For Business</td>\n",
       "    </tr>\n",
       "    <tr>\n",
       "      <th>1280</th>\n",
       "      <td>John</td>\n",
       "      <td>Newagehillbilly</td>\n",
       "      <td>Rock</td>\n",
       "      <td>history</td>\n",
       "    </tr>\n",
       "    <tr>\n",
       "      <th>1169</th>\n",
       "      <td>Dead And/Or Famous</td>\n",
       "      <td>Mors Ontologica</td>\n",
       "      <td>Rock</td>\n",
       "      <td>Uneasy</td>\n",
       "    </tr>\n",
       "    <tr>\n",
       "      <th>1274</th>\n",
       "      <td>Rehersal</td>\n",
       "      <td>Necropolis</td>\n",
       "      <td>Rock</td>\n",
       "      <td>Stumpf</td>\n",
       "    </tr>\n",
       "    <tr>\n",
       "      <th>1190</th>\n",
       "      <td>Don't Cry</td>\n",
       "      <td>Mors Ontologica</td>\n",
       "      <td>Rock</td>\n",
       "      <td>Up</td>\n",
       "    </tr>\n",
       "  </tbody>\n",
       "</table>\n",
       "</div>"
      ],
      "text/plain": [
       "                 album_title      artist_name genre       track_title\n",
       "track_id                                                             \n",
       "1170      Dead And/Or Famous  Mors Ontologica  Rock  Bad For Business\n",
       "1280                    John  Newagehillbilly  Rock           history\n",
       "1169      Dead And/Or Famous  Mors Ontologica  Rock            Uneasy\n",
       "1274                Rehersal       Necropolis  Rock            Stumpf\n",
       "1190               Don't Cry  Mors Ontologica  Rock                Up"
      ]
     },
     "execution_count": 860,
     "metadata": {},
     "output_type": "execute_result"
    }
   ],
   "source": [
    "# Mixed Recommendations\n",
    "mixed_recommend.head()"
   ]
  },
  {
   "cell_type": "code",
   "execution_count": 861,
   "metadata": {},
   "outputs": [
    {
     "data": {
      "text/html": [
       "<div>\n",
       "<style scoped>\n",
       "    .dataframe tbody tr th:only-of-type {\n",
       "        vertical-align: middle;\n",
       "    }\n",
       "\n",
       "    .dataframe tbody tr th {\n",
       "        vertical-align: top;\n",
       "    }\n",
       "\n",
       "    .dataframe thead th {\n",
       "        text-align: right;\n",
       "    }\n",
       "</style>\n",
       "<table border=\"1\" class=\"dataframe\">\n",
       "  <thead>\n",
       "    <tr style=\"text-align: right;\">\n",
       "      <th></th>\n",
       "      <th>Unnamed: 0</th>\n",
       "      <th>track_id</th>\n",
       "      <th>acousticness</th>\n",
       "      <th>danceability</th>\n",
       "      <th>energy</th>\n",
       "      <th>instrumentalness</th>\n",
       "      <th>liveness</th>\n",
       "      <th>speechiness</th>\n",
       "      <th>tempo</th>\n",
       "      <th>valence</th>\n",
       "      <th>Weather</th>\n",
       "      <th>Motion</th>\n",
       "      <th>Location</th>\n",
       "      <th>label</th>\n",
       "    </tr>\n",
       "  </thead>\n",
       "  <tbody>\n",
       "    <tr>\n",
       "      <th>456</th>\n",
       "      <td>456</td>\n",
       "      <td>1170</td>\n",
       "      <td>0.698553</td>\n",
       "      <td>0.527502</td>\n",
       "      <td>0.920360</td>\n",
       "      <td>0.925601</td>\n",
       "      <td>0.104572</td>\n",
       "      <td>0.065797</td>\n",
       "      <td>135.110</td>\n",
       "      <td>0.300625</td>\n",
       "      <td>1</td>\n",
       "      <td>2</td>\n",
       "      <td>4</td>\n",
       "      <td>4</td>\n",
       "    </tr>\n",
       "    <tr>\n",
       "      <th>493</th>\n",
       "      <td>493</td>\n",
       "      <td>1280</td>\n",
       "      <td>0.094643</td>\n",
       "      <td>0.188684</td>\n",
       "      <td>0.769396</td>\n",
       "      <td>0.942995</td>\n",
       "      <td>0.105225</td>\n",
       "      <td>0.041025</td>\n",
       "      <td>139.145</td>\n",
       "      <td>0.039909</td>\n",
       "      <td>5</td>\n",
       "      <td>1</td>\n",
       "      <td>4</td>\n",
       "      <td>4</td>\n",
       "    </tr>\n",
       "    <tr>\n",
       "      <th>455</th>\n",
       "      <td>455</td>\n",
       "      <td>1169</td>\n",
       "      <td>0.567768</td>\n",
       "      <td>0.683491</td>\n",
       "      <td>0.922510</td>\n",
       "      <td>0.875908</td>\n",
       "      <td>0.077960</td>\n",
       "      <td>0.222589</td>\n",
       "      <td>128.063</td>\n",
       "      <td>0.925308</td>\n",
       "      <td>6</td>\n",
       "      <td>3</td>\n",
       "      <td>1</td>\n",
       "      <td>4</td>\n",
       "    </tr>\n",
       "    <tr>\n",
       "      <th>490</th>\n",
       "      <td>490</td>\n",
       "      <td>1274</td>\n",
       "      <td>0.215794</td>\n",
       "      <td>0.308622</td>\n",
       "      <td>0.999553</td>\n",
       "      <td>0.884130</td>\n",
       "      <td>0.166080</td>\n",
       "      <td>0.058445</td>\n",
       "      <td>120.367</td>\n",
       "      <td>0.032084</td>\n",
       "      <td>1</td>\n",
       "      <td>2</td>\n",
       "      <td>0</td>\n",
       "      <td>4</td>\n",
       "    </tr>\n",
       "    <tr>\n",
       "      <th>472</th>\n",
       "      <td>472</td>\n",
       "      <td>1190</td>\n",
       "      <td>0.396481</td>\n",
       "      <td>0.617996</td>\n",
       "      <td>0.949502</td>\n",
       "      <td>0.934739</td>\n",
       "      <td>0.084356</td>\n",
       "      <td>0.041216</td>\n",
       "      <td>100.068</td>\n",
       "      <td>0.909199</td>\n",
       "      <td>5</td>\n",
       "      <td>2</td>\n",
       "      <td>3</td>\n",
       "      <td>4</td>\n",
       "    </tr>\n",
       "  </tbody>\n",
       "</table>\n",
       "</div>"
      ],
      "text/plain": [
       "     Unnamed: 0  track_id  acousticness  danceability    energy  \\\n",
       "456         456      1170      0.698553      0.527502  0.920360   \n",
       "493         493      1280      0.094643      0.188684  0.769396   \n",
       "455         455      1169      0.567768      0.683491  0.922510   \n",
       "490         490      1274      0.215794      0.308622  0.999553   \n",
       "472         472      1190      0.396481      0.617996  0.949502   \n",
       "\n",
       "     instrumentalness  liveness  speechiness    tempo   valence  Weather  \\\n",
       "456          0.925601  0.104572     0.065797  135.110  0.300625        1   \n",
       "493          0.942995  0.105225     0.041025  139.145  0.039909        5   \n",
       "455          0.875908  0.077960     0.222589  128.063  0.925308        6   \n",
       "490          0.884130  0.166080     0.058445  120.367  0.032084        1   \n",
       "472          0.934739  0.084356     0.041216  100.068  0.909199        5   \n",
       "\n",
       "     Motion  Location  label  \n",
       "456       2         4      4  \n",
       "493       1         4      4  \n",
       "455       3         1      4  \n",
       "490       2         0      4  \n",
       "472       2         3      4  "
      ]
     },
     "execution_count": 861,
     "metadata": {},
     "output_type": "execute_result"
    }
   ],
   "source": [
    "recommendations.head()"
   ]
  },
  {
   "cell_type": "code",
   "execution_count": 862,
   "metadata": {},
   "outputs": [
    {
     "data": {
      "text/plain": [
       "Glove Compartment    65\n",
       "Name: artist_name, dtype: int64"
      ]
     },
     "execution_count": 862,
     "metadata": {},
     "output_type": "execute_result"
    }
   ],
   "source": [
    "artist_name_recommend['artist_name'].value_counts()"
   ]
  },
  {
   "cell_type": "code",
   "execution_count": 863,
   "metadata": {},
   "outputs": [
    {
     "data": {
      "text/plain": [
       "Rock    3892\n",
       "Name: genre, dtype: int64"
      ]
     },
     "execution_count": 863,
     "metadata": {},
     "output_type": "execute_result"
    }
   ],
   "source": [
    "genre_recommend['genre'].value_counts()"
   ]
  },
  {
   "cell_type": "code",
   "execution_count": 864,
   "metadata": {},
   "outputs": [
    {
     "data": {
      "text/plain": [
       "Glove Compartment               65\n",
       "Blah Blah Blah                  62\n",
       "Mors Ontologica                 50\n",
       "Les Baudouins Morts             38\n",
       "Kraus                           35\n",
       "                                ..\n",
       "Alone in 1982                    1\n",
       "Ostrich Tuning                   1\n",
       "The Dalai Lama Rama Fa Fa Fa     1\n",
       "The Rusty Bells                  1\n",
       "Lost Boy                         1\n",
       "Name: artist_name, Length: 725, dtype: int64"
      ]
     },
     "execution_count": 864,
     "metadata": {},
     "output_type": "execute_result"
    }
   ],
   "source": [
    "genre_recommend['artist_name'].value_counts()"
   ]
  },
  {
   "cell_type": "markdown",
   "metadata": {},
   "source": [
    "#### Testing"
   ]
  },
  {
   "cell_type": "code",
   "execution_count": 865,
   "metadata": {},
   "outputs": [],
   "source": [
    "testing = Y.iloc[6:12]['track_id']"
   ]
  },
  {
   "cell_type": "code",
   "execution_count": 866,
   "metadata": {},
   "outputs": [
    {
     "data": {
      "text/plain": [
       "780    1794\n",
       "684    1659\n",
       "756    1759\n",
       "909    2073\n",
       "865    1919\n",
       "889    1954\n",
       "Name: track_id, dtype: int64"
      ]
     },
     "execution_count": 866,
     "metadata": {},
     "output_type": "execute_result"
    }
   ],
   "source": [
    "testing"
   ]
  },
  {
   "cell_type": "code",
   "execution_count": 867,
   "metadata": {},
   "outputs": [],
   "source": [
    "ids = testing.loc[testing.index]"
   ]
  },
  {
   "cell_type": "code",
   "execution_count": 868,
   "metadata": {},
   "outputs": [],
   "source": [
    "songs = metadata.loc[testing.loc[list(testing.index)]]"
   ]
  },
  {
   "cell_type": "code",
   "execution_count": 869,
   "metadata": {},
   "outputs": [
    {
     "data": {
      "text/html": [
       "<div>\n",
       "<style scoped>\n",
       "    .dataframe tbody tr th:only-of-type {\n",
       "        vertical-align: middle;\n",
       "    }\n",
       "\n",
       "    .dataframe tbody tr th {\n",
       "        vertical-align: top;\n",
       "    }\n",
       "\n",
       "    .dataframe thead th {\n",
       "        text-align: right;\n",
       "    }\n",
       "</style>\n",
       "<table border=\"1\" class=\"dataframe\">\n",
       "  <thead>\n",
       "    <tr style=\"text-align: right;\">\n",
       "      <th></th>\n",
       "      <th>album_title</th>\n",
       "      <th>artist_name</th>\n",
       "      <th>genre</th>\n",
       "      <th>track_title</th>\n",
       "    </tr>\n",
       "    <tr>\n",
       "      <th>track_id</th>\n",
       "      <th></th>\n",
       "      <th></th>\n",
       "      <th></th>\n",
       "      <th></th>\n",
       "    </tr>\n",
       "  </thead>\n",
       "  <tbody>\n",
       "    <tr>\n",
       "      <th>1794</th>\n",
       "      <td>The Glove Compartment</td>\n",
       "      <td>Glove Compartment</td>\n",
       "      <td>Rock</td>\n",
       "      <td>Wrinkle Star</td>\n",
       "    </tr>\n",
       "    <tr>\n",
       "      <th>1659</th>\n",
       "      <td>Wackity Schmackity Doo</td>\n",
       "      <td>So Cow</td>\n",
       "      <td>Pop</td>\n",
       "      <td>Arse Above Tit</td>\n",
       "    </tr>\n",
       "    <tr>\n",
       "      <th>1759</th>\n",
       "      <td>Meet We the Medicine</td>\n",
       "      <td>The Agrarians</td>\n",
       "      <td>Folk</td>\n",
       "      <td>The Mirror Travels Above The Ocean</td>\n",
       "    </tr>\n",
       "    <tr>\n",
       "      <th>2073</th>\n",
       "      <td>Mono M::P Free</td>\n",
       "      <td>Thomas Dimuzio</td>\n",
       "      <td>Electronic</td>\n",
       "      <td>Skullshop</td>\n",
       "    </tr>\n",
       "    <tr>\n",
       "      <th>1919</th>\n",
       "      <td>Pioneers Toasted - Rare And Unreleased 2001-2004</td>\n",
       "      <td>The Twin Atlas</td>\n",
       "      <td>Folk</td>\n",
       "      <td>Plains Of Saviors</td>\n",
       "    </tr>\n",
       "    <tr>\n",
       "      <th>1954</th>\n",
       "      <td>Von Hayes</td>\n",
       "      <td>Von Hayes</td>\n",
       "      <td>Rock</td>\n",
       "      <td>Chairman of the Ask Me Society</td>\n",
       "    </tr>\n",
       "  </tbody>\n",
       "</table>\n",
       "</div>"
      ],
      "text/plain": [
       "                                               album_title        artist_name  \\\n",
       "track_id                                                                        \n",
       "1794                                 The Glove Compartment  Glove Compartment   \n",
       "1659                                Wackity Schmackity Doo             So Cow   \n",
       "1759                                  Meet We the Medicine      The Agrarians   \n",
       "2073                                        Mono M::P Free     Thomas Dimuzio   \n",
       "1919      Pioneers Toasted - Rare And Unreleased 2001-2004     The Twin Atlas   \n",
       "1954                                             Von Hayes          Von Hayes   \n",
       "\n",
       "               genre                         track_title  \n",
       "track_id                                                  \n",
       "1794            Rock                        Wrinkle Star  \n",
       "1659             Pop                      Arse Above Tit  \n",
       "1759            Folk  The Mirror Travels Above The Ocean  \n",
       "2073      Electronic                           Skullshop  \n",
       "1919            Folk                   Plains Of Saviors  \n",
       "1954            Rock      Chairman of the Ask Me Society  "
      ]
     },
     "execution_count": 869,
     "metadata": {},
     "output_type": "execute_result"
    }
   ],
   "source": [
    "songs"
   ]
  },
  {
   "cell_type": "code",
   "execution_count": 870,
   "metadata": {},
   "outputs": [],
   "source": [
    "re = predict(t, Y.iloc[6:12])"
   ]
  },
  {
   "cell_type": "code",
   "execution_count": 871,
   "metadata": {},
   "outputs": [],
   "source": [
    "output = recommend(re, metadata, Y.iloc[6:12])"
   ]
  },
  {
   "cell_type": "code",
   "execution_count": 872,
   "metadata": {},
   "outputs": [],
   "source": [
    "ge_re, ge_ar, ge_mix = output[0], output[1], output[2]"
   ]
  },
  {
   "cell_type": "code",
   "execution_count": 873,
   "metadata": {},
   "outputs": [
    {
     "data": {
      "text/html": [
       "<div>\n",
       "<style scoped>\n",
       "    .dataframe tbody tr th:only-of-type {\n",
       "        vertical-align: middle;\n",
       "    }\n",
       "\n",
       "    .dataframe tbody tr th {\n",
       "        vertical-align: top;\n",
       "    }\n",
       "\n",
       "    .dataframe thead th {\n",
       "        text-align: right;\n",
       "    }\n",
       "</style>\n",
       "<table border=\"1\" class=\"dataframe\">\n",
       "  <thead>\n",
       "    <tr style=\"text-align: right;\">\n",
       "      <th></th>\n",
       "      <th>album_title</th>\n",
       "      <th>artist_name</th>\n",
       "      <th>genre</th>\n",
       "      <th>track_title</th>\n",
       "    </tr>\n",
       "    <tr>\n",
       "      <th>track_id</th>\n",
       "      <th></th>\n",
       "      <th></th>\n",
       "      <th></th>\n",
       "      <th></th>\n",
       "    </tr>\n",
       "  </thead>\n",
       "  <tbody>\n",
       "    <tr>\n",
       "      <th>139</th>\n",
       "      <td>Every Man For Himself</td>\n",
       "      <td>Alec K. Redfearn &amp; the Eyesores</td>\n",
       "      <td>Folk</td>\n",
       "      <td>CandyAss</td>\n",
       "    </tr>\n",
       "    <tr>\n",
       "      <th>140</th>\n",
       "      <td>The Blind Spot</td>\n",
       "      <td>Alec K. Redfearn &amp; the Eyesores</td>\n",
       "      <td>Folk</td>\n",
       "      <td>Queen Of The Wires</td>\n",
       "    </tr>\n",
       "    <tr>\n",
       "      <th>141</th>\n",
       "      <td>Every Man For Himself</td>\n",
       "      <td>Alec K. Redfearn &amp; the Eyesores</td>\n",
       "      <td>Folk</td>\n",
       "      <td>Ohio</td>\n",
       "    </tr>\n",
       "    <tr>\n",
       "      <th>142</th>\n",
       "      <td>The Quiet Room</td>\n",
       "      <td>Alec K. Redfearn &amp; the Eyesores</td>\n",
       "      <td>Folk</td>\n",
       "      <td>Punjabi Watery Grave</td>\n",
       "    </tr>\n",
       "    <tr>\n",
       "      <th>189</th>\n",
       "      <td>What I Know</td>\n",
       "      <td>Ed Askew</td>\n",
       "      <td>Folk</td>\n",
       "      <td>The Thought Of It</td>\n",
       "    </tr>\n",
       "  </tbody>\n",
       "</table>\n",
       "</div>"
      ],
      "text/plain": [
       "                    album_title                      artist_name genre  \\\n",
       "track_id                                                                 \n",
       "139       Every Man For Himself  Alec K. Redfearn & the Eyesores  Folk   \n",
       "140              The Blind Spot  Alec K. Redfearn & the Eyesores  Folk   \n",
       "141       Every Man For Himself  Alec K. Redfearn & the Eyesores  Folk   \n",
       "142              The Quiet Room  Alec K. Redfearn & the Eyesores  Folk   \n",
       "189                 What I Know                         Ed Askew  Folk   \n",
       "\n",
       "                   track_title  \n",
       "track_id                        \n",
       "139                   CandyAss  \n",
       "140         Queen Of The Wires  \n",
       "141                       Ohio  \n",
       "142       Punjabi Watery Grave  \n",
       "189          The Thought Of It  "
      ]
     },
     "execution_count": 873,
     "metadata": {},
     "output_type": "execute_result"
    }
   ],
   "source": [
    "ge_re.head()"
   ]
  },
  {
   "cell_type": "code",
   "execution_count": 874,
   "metadata": {},
   "outputs": [
    {
     "data": {
      "text/html": [
       "<div>\n",
       "<style scoped>\n",
       "    .dataframe tbody tr th:only-of-type {\n",
       "        vertical-align: middle;\n",
       "    }\n",
       "\n",
       "    .dataframe tbody tr th {\n",
       "        vertical-align: top;\n",
       "    }\n",
       "\n",
       "    .dataframe thead th {\n",
       "        text-align: right;\n",
       "    }\n",
       "</style>\n",
       "<table border=\"1\" class=\"dataframe\">\n",
       "  <thead>\n",
       "    <tr style=\"text-align: right;\">\n",
       "      <th></th>\n",
       "      <th>album_title</th>\n",
       "      <th>artist_name</th>\n",
       "      <th>genre</th>\n",
       "      <th>track_title</th>\n",
       "    </tr>\n",
       "    <tr>\n",
       "      <th>track_id</th>\n",
       "      <th></th>\n",
       "      <th></th>\n",
       "      <th></th>\n",
       "      <th></th>\n",
       "    </tr>\n",
       "  </thead>\n",
       "  <tbody>\n",
       "    <tr>\n",
       "      <th>777</th>\n",
       "      <td>Quickies</td>\n",
       "      <td>Glove Compartment</td>\n",
       "      <td>Rock</td>\n",
       "      <td>Relaxing</td>\n",
       "    </tr>\n",
       "    <tr>\n",
       "      <th>778</th>\n",
       "      <td>Quickies</td>\n",
       "      <td>Glove Compartment</td>\n",
       "      <td>Rock</td>\n",
       "      <td>Don't Call Me Tonite / Very Good</td>\n",
       "    </tr>\n",
       "    <tr>\n",
       "      <th>779</th>\n",
       "      <td>Quickies</td>\n",
       "      <td>Glove Compartment</td>\n",
       "      <td>Rock</td>\n",
       "      <td>Causing Disturbances</td>\n",
       "    </tr>\n",
       "    <tr>\n",
       "      <th>780</th>\n",
       "      <td>Quickies</td>\n",
       "      <td>Glove Compartment</td>\n",
       "      <td>Rock</td>\n",
       "      <td>Don't Peek-O</td>\n",
       "    </tr>\n",
       "    <tr>\n",
       "      <th>783</th>\n",
       "      <td>Quickies</td>\n",
       "      <td>Glove Compartment</td>\n",
       "      <td>Rock</td>\n",
       "      <td>Puffy Onyx</td>\n",
       "    </tr>\n",
       "    <tr>\n",
       "      <th>786</th>\n",
       "      <td>Quickies</td>\n",
       "      <td>Glove Compartment</td>\n",
       "      <td>Rock</td>\n",
       "      <td>Electric Guru</td>\n",
       "    </tr>\n",
       "    <tr>\n",
       "      <th>787</th>\n",
       "      <td>Quickies</td>\n",
       "      <td>Glove Compartment</td>\n",
       "      <td>Rock</td>\n",
       "      <td>Booger-Flicking Winners Go Freeh</td>\n",
       "    </tr>\n",
       "    <tr>\n",
       "      <th>788</th>\n",
       "      <td>Quickies</td>\n",
       "      <td>Glove Compartment</td>\n",
       "      <td>Rock</td>\n",
       "      <td>Vert</td>\n",
       "    </tr>\n",
       "    <tr>\n",
       "      <th>790</th>\n",
       "      <td>Quickies</td>\n",
       "      <td>Glove Compartment</td>\n",
       "      <td>Rock</td>\n",
       "      <td>Up, Two?</td>\n",
       "    </tr>\n",
       "    <tr>\n",
       "      <th>791</th>\n",
       "      <td>Quickies</td>\n",
       "      <td>Glove Compartment</td>\n",
       "      <td>Rock</td>\n",
       "      <td>6:30 Encephalitis Spraydown</td>\n",
       "    </tr>\n",
       "  </tbody>\n",
       "</table>\n",
       "</div>"
      ],
      "text/plain": [
       "         album_title        artist_name genre  \\\n",
       "track_id                                        \n",
       "777         Quickies  Glove Compartment  Rock   \n",
       "778         Quickies  Glove Compartment  Rock   \n",
       "779         Quickies  Glove Compartment  Rock   \n",
       "780         Quickies  Glove Compartment  Rock   \n",
       "783         Quickies  Glove Compartment  Rock   \n",
       "786         Quickies  Glove Compartment  Rock   \n",
       "787         Quickies  Glove Compartment  Rock   \n",
       "788         Quickies  Glove Compartment  Rock   \n",
       "790         Quickies  Glove Compartment  Rock   \n",
       "791         Quickies  Glove Compartment  Rock   \n",
       "\n",
       "                               track_title  \n",
       "track_id                                    \n",
       "777                               Relaxing  \n",
       "778       Don't Call Me Tonite / Very Good  \n",
       "779                   Causing Disturbances  \n",
       "780                           Don't Peek-O  \n",
       "783                             Puffy Onyx  \n",
       "786                          Electric Guru  \n",
       "787       Booger-Flicking Winners Go Freeh  \n",
       "788                                   Vert  \n",
       "790                               Up, Two?  \n",
       "791            6:30 Encephalitis Spraydown  "
      ]
     },
     "execution_count": 874,
     "metadata": {},
     "output_type": "execute_result"
    }
   ],
   "source": [
    "ge_ar.head(10)"
   ]
  },
  {
   "cell_type": "code",
   "execution_count": 875,
   "metadata": {},
   "outputs": [
    {
     "data": {
      "text/html": [
       "<div>\n",
       "<style scoped>\n",
       "    .dataframe tbody tr th:only-of-type {\n",
       "        vertical-align: middle;\n",
       "    }\n",
       "\n",
       "    .dataframe tbody tr th {\n",
       "        vertical-align: top;\n",
       "    }\n",
       "\n",
       "    .dataframe thead th {\n",
       "        text-align: right;\n",
       "    }\n",
       "</style>\n",
       "<table border=\"1\" class=\"dataframe\">\n",
       "  <thead>\n",
       "    <tr style=\"text-align: right;\">\n",
       "      <th></th>\n",
       "      <th>album_title</th>\n",
       "      <th>artist_name</th>\n",
       "      <th>genre</th>\n",
       "      <th>track_title</th>\n",
       "    </tr>\n",
       "    <tr>\n",
       "      <th>track_id</th>\n",
       "      <th></th>\n",
       "      <th></th>\n",
       "      <th></th>\n",
       "      <th></th>\n",
       "    </tr>\n",
       "  </thead>\n",
       "  <tbody>\n",
       "    <tr>\n",
       "      <th>1170</th>\n",
       "      <td>Dead And/Or Famous</td>\n",
       "      <td>Mors Ontologica</td>\n",
       "      <td>Rock</td>\n",
       "      <td>Bad For Business</td>\n",
       "    </tr>\n",
       "    <tr>\n",
       "      <th>1280</th>\n",
       "      <td>John</td>\n",
       "      <td>Newagehillbilly</td>\n",
       "      <td>Rock</td>\n",
       "      <td>history</td>\n",
       "    </tr>\n",
       "    <tr>\n",
       "      <th>1169</th>\n",
       "      <td>Dead And/Or Famous</td>\n",
       "      <td>Mors Ontologica</td>\n",
       "      <td>Rock</td>\n",
       "      <td>Uneasy</td>\n",
       "    </tr>\n",
       "    <tr>\n",
       "      <th>1274</th>\n",
       "      <td>Rehersal</td>\n",
       "      <td>Necropolis</td>\n",
       "      <td>Rock</td>\n",
       "      <td>Stumpf</td>\n",
       "    </tr>\n",
       "    <tr>\n",
       "      <th>1190</th>\n",
       "      <td>Don't Cry</td>\n",
       "      <td>Mors Ontologica</td>\n",
       "      <td>Rock</td>\n",
       "      <td>Up</td>\n",
       "    </tr>\n",
       "    <tr>\n",
       "      <th>1183</th>\n",
       "      <td>The Used Kids Session</td>\n",
       "      <td>Mors Ontologica</td>\n",
       "      <td>Rock</td>\n",
       "      <td>Vampires In My Neighborhood</td>\n",
       "    </tr>\n",
       "    <tr>\n",
       "      <th>1167</th>\n",
       "      <td>Dead And/Or Famous</td>\n",
       "      <td>Mors Ontologica</td>\n",
       "      <td>Rock</td>\n",
       "      <td>Lazy Suicide</td>\n",
       "    </tr>\n",
       "    <tr>\n",
       "      <th>1273</th>\n",
       "      <td>Demo</td>\n",
       "      <td>Necropolis</td>\n",
       "      <td>Rock</td>\n",
       "      <td>No Tongue, No Talking</td>\n",
       "    </tr>\n",
       "    <tr>\n",
       "      <th>1141</th>\n",
       "      <td>Since Before Inertia</td>\n",
       "      <td>Minmae</td>\n",
       "      <td>Rock</td>\n",
       "      <td>New Lilith/Flashing Timex</td>\n",
       "    </tr>\n",
       "    <tr>\n",
       "      <th>1173</th>\n",
       "      <td>The Used Kids Session</td>\n",
       "      <td>Mors Ontologica</td>\n",
       "      <td>Rock</td>\n",
       "      <td>Voice Of Degeneration</td>\n",
       "    </tr>\n",
       "  </tbody>\n",
       "</table>\n",
       "</div>"
      ],
      "text/plain": [
       "                    album_title      artist_name genre  \\\n",
       "track_id                                                 \n",
       "1170         Dead And/Or Famous  Mors Ontologica  Rock   \n",
       "1280                       John  Newagehillbilly  Rock   \n",
       "1169         Dead And/Or Famous  Mors Ontologica  Rock   \n",
       "1274                   Rehersal       Necropolis  Rock   \n",
       "1190                  Don't Cry  Mors Ontologica  Rock   \n",
       "1183      The Used Kids Session  Mors Ontologica  Rock   \n",
       "1167         Dead And/Or Famous  Mors Ontologica  Rock   \n",
       "1273                       Demo       Necropolis  Rock   \n",
       "1141       Since Before Inertia           Minmae  Rock   \n",
       "1173      The Used Kids Session  Mors Ontologica  Rock   \n",
       "\n",
       "                          track_title  \n",
       "track_id                               \n",
       "1170                 Bad For Business  \n",
       "1280                          history  \n",
       "1169                           Uneasy  \n",
       "1274                           Stumpf  \n",
       "1190                               Up  \n",
       "1183      Vampires In My Neighborhood  \n",
       "1167                     Lazy Suicide  \n",
       "1273            No Tongue, No Talking  \n",
       "1141        New Lilith/Flashing Timex  \n",
       "1173            Voice Of Degeneration  "
      ]
     },
     "execution_count": 875,
     "metadata": {},
     "output_type": "execute_result"
    }
   ],
   "source": [
    "ge_mix.head(10)"
   ]
  },
  {
   "cell_type": "code",
   "execution_count": 876,
   "metadata": {},
   "outputs": [
    {
     "data": {
      "text/plain": [
       "(874, 4)"
      ]
     },
     "execution_count": 876,
     "metadata": {},
     "output_type": "execute_result"
    }
   ],
   "source": [
    "ge_re.shape"
   ]
  },
  {
   "cell_type": "code",
   "execution_count": 877,
   "metadata": {},
   "outputs": [
    {
     "data": {
      "text/plain": [
       "(65, 4)"
      ]
     },
     "execution_count": 877,
     "metadata": {},
     "output_type": "execute_result"
    }
   ],
   "source": [
    "ge_ar.shape"
   ]
  },
  {
   "cell_type": "code",
   "execution_count": 878,
   "metadata": {},
   "outputs": [
    {
     "data": {
      "text/plain": [
       "(74, 4)"
      ]
     },
     "execution_count": 878,
     "metadata": {},
     "output_type": "execute_result"
    }
   ],
   "source": [
    "ge_mix.shape"
   ]
  }
 ],
 "metadata": {
  "kernelspec": {
   "display_name": "Python 3.8.10 64-bit",
   "language": "python",
   "name": "python3"
  },
  "language_info": {
   "codemirror_mode": {
    "name": "ipython",
    "version": 3
   },
   "file_extension": ".py",
   "mimetype": "text/x-python",
   "name": "python",
   "nbconvert_exporter": "python",
   "pygments_lexer": "ipython3",
   "version": "3.8.10"
  },
  "vscode": {
   "interpreter": {
    "hash": "6d103871eccc3b5c28487bc2a2baf404b4efef0e0ca59e67776026e0e247d77b"
   }
  }
 },
 "nbformat": 4,
 "nbformat_minor": 2
}
